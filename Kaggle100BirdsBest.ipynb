{
  "nbformat": 4,
  "nbformat_minor": 0,
  "metadata": {
    "colab": {
      "name": "Kaggle100Birds.ipynb",
      "provenance": [],
      "collapsed_sections": [],
      "authorship_tag": "ABX9TyPqAHR6jEme+2Tb8mQo8VCx",
      "include_colab_link": true
    },
    "kernelspec": {
      "name": "python3",
      "display_name": "Python 3"
    },
    "language_info": {
      "name": "python"
    }
  },
  "cells": [
    {
      "cell_type": "markdown",
      "metadata": {
        "id": "view-in-github",
        "colab_type": "text"
      },
      "source": [
        "<a href=\"https://colab.research.google.com/github/gracekfisher/bird-classifier/blob/main/Kaggle100BirdsBest.ipynb\" target=\"_parent\"><img src=\"https://colab.research.google.com/assets/colab-badge.svg\" alt=\"Open In Colab\"/></a>"
      ]
    },
    {
      "cell_type": "code",
      "source": [
        "from google.colab import drive\n",
        "drive.mount('/content/gdrive')"
      ],
      "metadata": {
        "colab": {
          "base_uri": "https://localhost:8080/"
        },
        "id": "Ie2vD09syjxK",
        "outputId": "24e60eb8-51e8-4204-bbbd-1c5a88e7a413"
      },
      "execution_count": 4,
      "outputs": [
        {
          "output_type": "stream",
          "name": "stdout",
          "text": [
            "Mounted at /content/gdrive\n"
          ]
        }
      ]
    },
    {
      "cell_type": "code",
      "source": [
        "import matplotlib.pyplot as plt\n",
        "import numpy as np\n",
        "import tensorflow as tf\n",
        "import tensorflow_datasets as tfds\n",
        "import pandas as pd\n",
        "import tensorflow.keras as keras\n",
        "from tensorflow.keras.preprocessing.image import ImageDataGenerator\n",
        "from tensorflow.keras.models import Sequential\n",
        "from tensorflow.keras.layers import Activation, Dense, Flatten, Conv1D, MaxPooling1D, Reshape\n",
        "from tensorflow.keras.initializers import HeNormal\n",
        "from tensorflow.keras.optimizers import Adam, SGD\n",
        "from tensorflow.keras.callbacks import EarlyStopping\n",
        "from tensorflow.keras.utils import to_categorical"
      ],
      "metadata": {
        "id": "9IvBuP3pXP3b"
      },
      "execution_count": 5,
      "outputs": []
    },
    {
      "cell_type": "code",
      "source": [
        "nb_classes=34"
      ],
      "metadata": {
        "id": "OPm6Z2G-XYoT"
      },
      "execution_count": 6,
      "outputs": []
    },
    {
      "cell_type": "code",
      "source": [
        "from tensorflow.keras.layers import Conv2D, MaxPool2D, Flatten\n",
        "\n",
        "# 1st Conv2D: 6 filters, 5x5\n",
        "# 2nd Conv2D: 16 filters, 5x5\n",
        "\n",
        "model = Sequential()\n",
        "model.add(Conv2D(6, (5,5), activation='relu', kernel_initializer=HeNormal(), input_shape=(299,299,3,)))\n",
        "model.add(MaxPool2D()) # filter 2x2, stride 2x2\n",
        "model.add(Conv2D(16, (5,5), activation='relu', kernel_initializer=HeNormal()))\n",
        "model.add(MaxPool2D()) # filter 2x2, stride 2x2\n",
        "model.add(Conv2D(10, (5,5), activation='relu', kernel_initializer=HeNormal()))\n",
        "model.add(Flatten())\n",
        "model.add(Dense(nb_classes, activation='softmax'))\n",
        "\n",
        "model.compile(loss='categorical_crossentropy', optimizer='adam', metrics=['accuracy'])"
      ],
      "metadata": {
        "id": "xThv_QSrXbpW"
      },
      "execution_count": 14,
      "outputs": []
    },
    {
      "cell_type": "code",
      "source": [
        "train_datagen = ImageDataGenerator(rescale=1./255,\n",
        "                                   dtype = \"float32\",\n",
        "                                   rotation_range=10,\n",
        "                                   width_shift_range=0.2,\n",
        "                                   height_shift_range=0.2,\n",
        "                                   shear_range=0.2,\n",
        "                                   zoom_range=0.2,\n",
        "                                   horizontal_flip=True)"
      ],
      "metadata": {
        "id": "mVpRaZasYBPt"
      },
      "execution_count": 8,
      "outputs": []
    },
    {
      "cell_type": "code",
      "source": [
        "valid_datagen = ImageDataGenerator(rescale=1./255,\n",
        "                                   dtype=\"float32\",\n",
        "                                  )"
      ],
      "metadata": {
        "id": "UMbnRxGTYLGz"
      },
      "execution_count": 9,
      "outputs": []
    },
    {
      "cell_type": "code",
      "source": [
        "train_generator = train_datagen.flow_from_directory(\n",
        "  'gdrive/MyDrive/Birds/train_cut', target_size=(299,299), \n",
        "  batch_size=20,\n",
        "  class_mode='categorical')"
      ],
      "metadata": {
        "colab": {
          "base_uri": "https://localhost:8080/"
        },
        "id": "KjU3cFJbYOrW",
        "outputId": "e1b55e11-02fe-4eed-b16c-bcbf3f84b6c1"
      },
      "execution_count": 10,
      "outputs": [
        {
          "output_type": "stream",
          "name": "stdout",
          "text": [
            "Found 6668 images belonging to 34 classes.\n"
          ]
        }
      ]
    },
    {
      "cell_type": "code",
      "source": [
        "validation_generator = valid_datagen.flow_from_directory(\n",
        "    'gdrive/MyDrive/Birds/test_cut', target_size=(299,299),\n",
        "     batch_size=8, class_mode='categorical')"
      ],
      "metadata": {
        "colab": {
          "base_uri": "https://localhost:8080/"
        },
        "id": "I8L0RLvTYYDP",
        "outputId": "6b779ace-ecca-433f-f5ba-6592a574a2e6"
      },
      "execution_count": 11,
      "outputs": [
        {
          "output_type": "stream",
          "name": "stdout",
          "text": [
            "Found 170 images belonging to 34 classes.\n"
          ]
        }
      ]
    },
    {
      "cell_type": "code",
      "source": [
        "from tensorflow.keras.callbacks import EarlyStopping\n",
        "\n",
        "es = EarlyStopping(patience=3, restore_best_weights=True, monitor='val_accuracy')"
      ],
      "metadata": {
        "id": "xraLKURT4Kex"
      },
      "execution_count": 12,
      "outputs": []
    },
    {
      "cell_type": "code",
      "source": [
        "model.fit(train_generator,\n",
        "          steps_per_epoch=200, \n",
        "          validation_data=validation_generator,\n",
        "          validation_steps=20, \n",
        "          epochs=25,\n",
        "          callbacks=[es])"
      ],
      "metadata": {
        "colab": {
          "base_uri": "https://localhost:8080/"
        },
        "id": "GomPnF1bYbZA",
        "outputId": "22ec3d8b-fab1-4f3e-e9dd-8b4dbbe0562e"
      },
      "execution_count": 15,
      "outputs": [
        {
          "output_type": "stream",
          "name": "stdout",
          "text": [
            "Epoch 1/25\n",
            "200/200 [==============================] - 397s 2s/step - loss: 3.4517 - accuracy: 0.0705 - val_loss: 3.0133 - val_accuracy: 0.1813\n",
            "Epoch 2/25\n",
            "200/200 [==============================] - 399s 2s/step - loss: 3.0957 - accuracy: 0.1500 - val_loss: 2.5396 - val_accuracy: 0.2937\n",
            "Epoch 3/25\n",
            "200/200 [==============================] - 397s 2s/step - loss: 2.8927 - accuracy: 0.2001 - val_loss: 2.4185 - val_accuracy: 0.3063\n",
            "Epoch 4/25\n",
            "200/200 [==============================] - 398s 2s/step - loss: 2.7478 - accuracy: 0.2287 - val_loss: 2.1631 - val_accuracy: 0.4125\n",
            "Epoch 5/25\n",
            "200/200 [==============================] - 393s 2s/step - loss: 2.6333 - accuracy: 0.2630 - val_loss: 2.1170 - val_accuracy: 0.3812\n",
            "Epoch 6/25\n",
            "200/200 [==============================] - 398s 2s/step - loss: 2.5148 - accuracy: 0.2944 - val_loss: 2.0279 - val_accuracy: 0.4375\n",
            "Epoch 7/25\n",
            "200/200 [==============================] - 399s 2s/step - loss: 2.4109 - accuracy: 0.3170 - val_loss: 1.8485 - val_accuracy: 0.5063\n",
            "Epoch 8/25\n",
            "200/200 [==============================] - 395s 2s/step - loss: 2.3479 - accuracy: 0.3390 - val_loss: 1.7796 - val_accuracy: 0.4875\n",
            "Epoch 9/25\n",
            "200/200 [==============================] - 399s 2s/step - loss: 2.2598 - accuracy: 0.3653 - val_loss: 1.6527 - val_accuracy: 0.5375\n",
            "Epoch 10/25\n",
            "200/200 [==============================] - 399s 2s/step - loss: 2.2073 - accuracy: 0.3840 - val_loss: 1.6061 - val_accuracy: 0.5250\n",
            "Epoch 11/25\n",
            "200/200 [==============================] - 397s 2s/step - loss: 2.1795 - accuracy: 0.3982 - val_loss: 1.5814 - val_accuracy: 0.5562\n",
            "Epoch 12/25\n",
            "200/200 [==============================] - 398s 2s/step - loss: 2.1080 - accuracy: 0.4055 - val_loss: 1.6302 - val_accuracy: 0.5375\n",
            "Epoch 13/25\n",
            "200/200 [==============================] - 395s 2s/step - loss: 2.0842 - accuracy: 0.4248 - val_loss: 1.3664 - val_accuracy: 0.5813\n",
            "Epoch 14/25\n",
            "200/200 [==============================] - 397s 2s/step - loss: 2.0138 - accuracy: 0.4290 - val_loss: 1.3678 - val_accuracy: 0.6000\n",
            "Epoch 15/25\n",
            "200/200 [==============================] - 398s 2s/step - loss: 1.9613 - accuracy: 0.4550 - val_loss: 1.3124 - val_accuracy: 0.6000\n",
            "Epoch 16/25\n",
            "200/200 [==============================] - 398s 2s/step - loss: 1.9357 - accuracy: 0.4478 - val_loss: 1.3103 - val_accuracy: 0.6313\n",
            "Epoch 17/25\n",
            "200/200 [==============================] - 396s 2s/step - loss: 1.9198 - accuracy: 0.4608 - val_loss: 1.2400 - val_accuracy: 0.6375\n",
            "Epoch 18/25\n",
            "200/200 [==============================] - 397s 2s/step - loss: 1.8389 - accuracy: 0.4855 - val_loss: 1.1754 - val_accuracy: 0.6625\n",
            "Epoch 19/25\n",
            "200/200 [==============================] - 395s 2s/step - loss: 1.8365 - accuracy: 0.4837 - val_loss: 1.3292 - val_accuracy: 0.6438\n",
            "Epoch 20/25\n",
            "200/200 [==============================] - 399s 2s/step - loss: 1.8755 - accuracy: 0.4782 - val_loss: 1.1319 - val_accuracy: 0.6687\n",
            "Epoch 21/25\n",
            "200/200 [==============================] - 393s 2s/step - loss: 1.7820 - accuracy: 0.4965 - val_loss: 1.1374 - val_accuracy: 0.6625\n",
            "Epoch 22/25\n",
            "200/200 [==============================] - 396s 2s/step - loss: 1.7906 - accuracy: 0.4995 - val_loss: 1.0771 - val_accuracy: 0.6875\n",
            "Epoch 23/25\n",
            "200/200 [==============================] - 397s 2s/step - loss: 1.7674 - accuracy: 0.5035 - val_loss: 1.0491 - val_accuracy: 0.6812\n",
            "Epoch 24/25\n",
            "200/200 [==============================] - 398s 2s/step - loss: 1.7777 - accuracy: 0.4947 - val_loss: 1.0542 - val_accuracy: 0.6812\n",
            "Epoch 25/25\n",
            "200/200 [==============================] - 391s 2s/step - loss: 1.7129 - accuracy: 0.5193 - val_loss: 1.1040 - val_accuracy: 0.6562\n"
          ]
        },
        {
          "output_type": "execute_result",
          "data": {
            "text/plain": [
              "<keras.callbacks.History at 0x7fcf89b176d0>"
            ]
          },
          "metadata": {},
          "execution_count": 15
        }
      ]
    },
    {
      "cell_type": "code",
      "source": [
        "model.evaluate(validation_generator)"
      ],
      "metadata": {
        "colab": {
          "base_uri": "https://localhost:8080/"
        },
        "id": "uS4rrhBoRmVo",
        "outputId": "830d87c8-31a0-4fac-9b62-7f69e7385069"
      },
      "execution_count": 17,
      "outputs": [
        {
          "output_type": "stream",
          "name": "stdout",
          "text": [
            "22/22 [==============================] - 5s 237ms/step - loss: 1.0689 - accuracy: 0.6941\n"
          ]
        },
        {
          "output_type": "execute_result",
          "data": {
            "text/plain": [
              "[1.0689282417297363, 0.6941176652908325]"
            ]
          },
          "metadata": {},
          "execution_count": 17
        }
      ]
    }
  ]
}