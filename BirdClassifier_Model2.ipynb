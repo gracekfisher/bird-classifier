{
  "nbformat": 4,
  "nbformat_minor": 0,
  "metadata": {
    "colab": {
      "name": "BirdClassifier-Model2.ipynb",
      "provenance": [],
      "authorship_tag": "ABX9TyNV0K/mxRamHIeWy3/7SGTA"
    },
    "kernelspec": {
      "name": "python3",
      "display_name": "Python 3"
    },
    "language_info": {
      "name": "python"
    }
  },
  "cells": [
    {
      "cell_type": "code",
      "execution_count": 1,
      "metadata": {
        "id": "tKPJ8UdFTg2k"
      },
      "outputs": [],
      "source": [
        "!pip install -q tfds-nightly tensorflow matplotlib"
      ]
    },
    {
      "cell_type": "code",
      "source": [
        "import matplotlib.pyplot as plt\n",
        "import numpy as np\n",
        "import tensorflow as tf\n",
        "import tensorflow_datasets as tfds\n",
        "import pandas as pd"
      ],
      "metadata": {
        "id": "1LCyOLFMTjX4"
      },
      "execution_count": 2,
      "outputs": []
    },
    {
      "cell_type": "code",
      "source": [
        "(ds_train, ds_test), info = tfds.load('caltech_birds2011', split=['train','test'], shuffle_files=True, as_supervised = True, with_info=True)"
      ],
      "metadata": {
        "id": "uFSRJhLDTp1N"
      },
      "execution_count": 3,
      "outputs": []
    },
    {
      "cell_type": "code",
      "source": [
        "df_train = tfds.as_dataframe(ds_train.take(3000), info)\n",
        "df_valid = tfds.as_dataframe(ds_test.take(3000), info)"
      ],
      "metadata": {
        "id": "BEKN4u_5VfBt"
      },
      "execution_count": 4,
      "outputs": []
    },
    {
      "cell_type": "code",
      "source": [
        "y_train = df_train['label']\n",
        "y_valid = df_valid['label']\n",
        "\n",
        "del df_train['label']\n",
        "del df_valid['label']\n",
        "\n",
        "x_train = df_train.values\n",
        "x_valid = df_valid.values"
      ],
      "metadata": {
        "id": "rFXH_4gRWSTb"
      },
      "execution_count": 5,
      "outputs": []
    },
    {
      "cell_type": "code",
      "source": [
        "for i in range(0, x_train.shape[0]):\n",
        "  x_train[i][0] = np.resize(x_train[i][0], 400*500*3)"
      ],
      "metadata": {
        "id": "a9NmaovjXGO0"
      },
      "execution_count": 6,
      "outputs": []
    },
    {
      "cell_type": "code",
      "source": [
        "x_train_array = np.ndarray(shape=(3000, 600000), dtype='uint8', order='F')"
      ],
      "metadata": {
        "id": "_wzMpl8mAUts"
      },
      "execution_count": 8,
      "outputs": []
    },
    {
      "cell_type": "code",
      "source": [
        "for i in range(0, 1000):\n",
        "  temp = x_train[i][0]\n",
        "  x_train_array[i] = temp"
      ],
      "metadata": {
        "id": "REnueihxcWK_"
      },
      "execution_count": 9,
      "outputs": []
    },
    {
      "cell_type": "code",
      "source": [
        "for i in range(1000, 2000):\n",
        "  temp = x_train[i][0]\n",
        "  x_train_array[i] = temp"
      ],
      "metadata": {
        "id": "0Gszg7lZiGBw"
      },
      "execution_count": 10,
      "outputs": []
    },
    {
      "cell_type": "code",
      "source": [
        "for i in range(2000, 3000):\n",
        "  temp = x_train[i][0]\n",
        "  x_train_array[i] = temp"
      ],
      "metadata": {
        "id": "ELbgfsYTiGgk"
      },
      "execution_count": 11,
      "outputs": []
    },
    {
      "cell_type": "code",
      "source": [
        "from tensorflow.keras.models import Sequential\n",
        "from tensorflow.keras.layers import Activation, Dense, Flatten, Conv1D, MaxPooling1D\n",
        "from tensorflow.keras.initializers import HeNormal\n",
        "from tensorflow.keras.optimizers import Adam, SGD\n",
        "from tensorflow.keras.callbacks import EarlyStopping"
      ],
      "metadata": {
        "id": "9AHSTCPxWhB2"
      },
      "execution_count": 12,
      "outputs": []
    },
    {
      "cell_type": "code",
      "source": [
        "model = Sequential()\n",
        "model.add(Dense(256, activation='relu', kernel_initializer=HeNormal(), input_shape=(600000,)))\n",
        "model.add(Dense(128, activation='relu', kernel_initializer=HeNormal()))\n",
        "model.add(Dense(1, activation='softmax'))\n",
        "\n",
        "model.compile(loss='categorical_crossentropy', optimizer='adam', metrics=['accuracy'])"
      ],
      "metadata": {
        "id": "-6-4wWG-WjoX"
      },
      "execution_count": 13,
      "outputs": []
    },
    {
      "cell_type": "code",
      "source": [
        "model.fit(x_train_array, y_train, epochs=3, verbose=1)"
      ],
      "metadata": {
        "id": "v27EKXcSYr9u",
        "colab": {
          "base_uri": "https://localhost:8080/"
        },
        "outputId": "8ea3f285-3d44-4ed9-e28d-9cf42db3774d"
      },
      "execution_count": 14,
      "outputs": [
        {
          "output_type": "stream",
          "name": "stdout",
          "text": [
            "Epoch 1/4\n",
            "94/94 [==============================] - 86s 905ms/step - loss: 0.0000e+00 - accuracy: 0.0057\n",
            "Epoch 2/4\n",
            "94/94 [==============================] - 81s 860ms/step - loss: 0.0000e+00 - accuracy: 0.0057\n",
            "Epoch 3/4\n",
            "94/94 [==============================] - 81s 858ms/step - loss: 0.0000e+00 - accuracy: 0.0057\n",
            "Epoch 4/4\n",
            "94/94 [==============================] - 84s 890ms/step - loss: 0.0000e+00 - accuracy: 0.0057\n"
          ]
        },
        {
          "output_type": "execute_result",
          "data": {
            "text/plain": [
              "<keras.callbacks.History at 0x7f9590546f90>"
            ]
          },
          "metadata": {},
          "execution_count": 14
        }
      ]
    },
    {
      "cell_type": "code",
      "source": [
        "for i in range(0, x_valid.shape[0]):\n",
        "  x_valid[i][0] = np.resize(x_valid[i][0], 400*500*3)"
      ],
      "metadata": {
        "id": "ymM7ApJLdxwJ"
      },
      "execution_count": 15,
      "outputs": []
    },
    {
      "cell_type": "code",
      "source": [
        "x_valid_array = np.ndarray(shape=(3000, 600000), dtype='uint8', order='F')"
      ],
      "metadata": {
        "id": "safSSxSOi7XL"
      },
      "execution_count": 17,
      "outputs": []
    },
    {
      "cell_type": "code",
      "source": [
        "for i in range(0, 1000):\n",
        "  x_valid_array[i] = x_valid[i][0]"
      ],
      "metadata": {
        "id": "Y5vMcrifi26k"
      },
      "execution_count": null,
      "outputs": []
    },
    {
      "cell_type": "code",
      "source": [
        "for i in range(1000, 2000):\n",
        "  temp = x_valid[i][0]\n",
        "  x_valid_array[i] = temp"
      ],
      "metadata": {
        "id": "U6zuAWrGjC0h"
      },
      "execution_count": 19,
      "outputs": []
    },
    {
      "cell_type": "code",
      "source": [
        "for i in range(2000, 3000):\n",
        "  temp = x_valid[i][0]\n",
        "  x_valid_array[i] = temp"
      ],
      "metadata": {
        "id": "upeho8LNjEfq"
      },
      "execution_count": 20,
      "outputs": []
    },
    {
      "cell_type": "code",
      "source": [
        "print(model.evaluate(x_valid_array, y_valid))"
      ],
      "metadata": {
        "colab": {
          "base_uri": "https://localhost:8080/",
          "height": 168
        },
        "id": "fxodWsy5je60",
        "outputId": "621c3fce-8aef-4465-af6a-61468fae0501"
      },
      "execution_count": 1,
      "outputs": [
        {
          "output_type": "error",
          "ename": "NameError",
          "evalue": "ignored",
          "traceback": [
            "\u001b[0;31m---------------------------------------------------------------------------\u001b[0m",
            "\u001b[0;31mNameError\u001b[0m                                 Traceback (most recent call last)",
            "\u001b[0;32m<ipython-input-1-493f0778c54c>\u001b[0m in \u001b[0;36m<module>\u001b[0;34m()\u001b[0m\n\u001b[0;32m----> 1\u001b[0;31m \u001b[0mprint\u001b[0m\u001b[0;34m(\u001b[0m\u001b[0mmodel\u001b[0m\u001b[0;34m.\u001b[0m\u001b[0mevaluate\u001b[0m\u001b[0;34m(\u001b[0m\u001b[0mx_valid_array\u001b[0m\u001b[0;34m,\u001b[0m \u001b[0my_valid\u001b[0m\u001b[0;34m)\u001b[0m\u001b[0;34m)\u001b[0m\u001b[0;34m\u001b[0m\u001b[0;34m\u001b[0m\u001b[0m\n\u001b[0m",
            "\u001b[0;31mNameError\u001b[0m: name 'model' is not defined"
          ]
        }
      ]
    }
  ]
}