{
  "nbformat": 4,
  "nbformat_minor": 0,
  "metadata": {
    "colab": {
      "name": "Top5Birds.ipynb",
      "provenance": [],
      "authorship_tag": "ABX9TyNaruNn21jFGa6qGWPDARM3",
      "include_colab_link": true
    },
    "kernelspec": {
      "name": "python3",
      "display_name": "Python 3"
    },
    "language_info": {
      "name": "python"
    }
  },
  "cells": [
    {
      "cell_type": "markdown",
      "metadata": {
        "id": "view-in-github",
        "colab_type": "text"
      },
      "source": [
        "<a href=\"https://colab.research.google.com/github/gracekfisher/bird-classifier/blob/main/Top5Birds.ipynb\" target=\"_parent\"><img src=\"https://colab.research.google.com/assets/colab-badge.svg\" alt=\"Open In Colab\"/></a>"
      ]
    },
    {
      "cell_type": "code",
      "execution_count": 2,
      "metadata": {
        "colab": {
          "base_uri": "https://localhost:8080/"
        },
        "id": "8Htx5rwErMzs",
        "outputId": "3f8cb4f2-9e85-481c-e408-52556dc41c61"
      },
      "outputs": [
        {
          "output_type": "stream",
          "name": "stdout",
          "text": [
            "Mounted at /content/gdrive\n"
          ]
        }
      ],
      "source": [
        "from google.colab import drive\n",
        "drive.mount('/content/gdrive')"
      ]
    },
    {
      "cell_type": "code",
      "source": [
        "import matplotlib.pyplot as plt\n",
        "import numpy as np\n",
        "import tensorflow as tf\n",
        "import tensorflow_datasets as tfds\n",
        "import pandas as pd\n",
        "import tensorflow.keras as keras\n",
        "from tensorflow.keras.preprocessing.image import ImageDataGenerator\n",
        "from tensorflow.keras.models import Sequential\n",
        "from tensorflow.keras.layers import Activation, Dense, Flatten, Conv1D, MaxPooling1D, Reshape\n",
        "from tensorflow.keras.initializers import HeNormal\n",
        "from tensorflow.keras.optimizers import Adam, SGD\n",
        "from tensorflow.keras.callbacks import EarlyStopping\n",
        "from tensorflow.keras.utils import to_categorical"
      ],
      "metadata": {
        "id": "Z1pvqpyzsSKf"
      },
      "execution_count": 3,
      "outputs": []
    },
    {
      "cell_type": "code",
      "source": [
        "nb_classes=5"
      ],
      "metadata": {
        "id": "Y3rFdxyusVOZ"
      },
      "execution_count": 7,
      "outputs": []
    },
    {
      "cell_type": "code",
      "source": [
        "from tensorflow.keras.layers import Conv2D, MaxPool2D, Flatten\n",
        "\n",
        "# 1st Conv2D: 6 filters, 5x5\n",
        "# 2nd Conv2D: 16 filters, 5x5\n",
        "\n",
        "model = Sequential()\n",
        "model.add(Conv2D(6, (5,5), activation='relu', kernel_initializer=HeNormal(), input_shape=(299,299,3,)))\n",
        "model.add(MaxPool2D()) # filter 2x2, stride 2x2\n",
        "model.add(Conv2D(16, (5,5), activation='relu', kernel_initializer=HeNormal()))\n",
        "model.add(MaxPool2D()) # filter 2x2, stride 2x2\n",
        "model.add(Conv2D(10, (5,5), activation='relu', kernel_initializer=HeNormal()))\n",
        "model.add(Flatten())\n",
        "model.add(Dense(nb_classes, activation='softmax'))\n",
        "\n",
        "model.compile(loss='categorical_crossentropy', optimizer='adam', metrics=['accuracy'])"
      ],
      "metadata": {
        "id": "GHcuknvYsVsu"
      },
      "execution_count": 31,
      "outputs": []
    },
    {
      "cell_type": "code",
      "source": [
        "train_datagen = ImageDataGenerator(rescale=1./255,\n",
        "                                   dtype = \"float32\",\n",
        "                                   rotation_range=10,\n",
        "                                   width_shift_range=0.2,\n",
        "                                   height_shift_range=0.2,\n",
        "                                   shear_range=0.2,\n",
        "                                   zoom_range=0.2,\n",
        "                                   horizontal_flip=True)"
      ],
      "metadata": {
        "id": "WxuqsTGVsYuu"
      },
      "execution_count": 9,
      "outputs": []
    },
    {
      "cell_type": "code",
      "source": [
        "valid_datagen = ImageDataGenerator(rescale=1./255,\n",
        "                                   dtype=\"float32\",\n",
        "                                  )"
      ],
      "metadata": {
        "id": "pNOISYl-seC5"
      },
      "execution_count": 10,
      "outputs": []
    },
    {
      "cell_type": "code",
      "source": [
        "train_generator = train_datagen.flow_from_directory(\n",
        "  'gdrive/MyDrive/Birds/train_top5', target_size=(299,299), \n",
        "  batch_size=20,\n",
        "  class_mode='categorical')"
      ],
      "metadata": {
        "colab": {
          "base_uri": "https://localhost:8080/"
        },
        "id": "p3fe1Xf5seio",
        "outputId": "d4cb023c-d765-4405-d317-24ebb3c6ca15"
      },
      "execution_count": 11,
      "outputs": [
        {
          "output_type": "stream",
          "name": "stdout",
          "text": [
            "Found 1146 images belonging to 5 classes.\n"
          ]
        }
      ]
    },
    {
      "cell_type": "code",
      "source": [
        "validation_generator = valid_datagen.flow_from_directory(\n",
        "    'gdrive/MyDrive/Birds/test_top5', target_size=(299,299),\n",
        "     batch_size=2, class_mode='categorical')"
      ],
      "metadata": {
        "colab": {
          "base_uri": "https://localhost:8080/"
        },
        "id": "MDKaar2Esos6",
        "outputId": "d37ae157-2387-4044-f275-4f335af19376"
      },
      "execution_count": 32,
      "outputs": [
        {
          "output_type": "stream",
          "name": "stdout",
          "text": [
            "Found 25 images belonging to 5 classes.\n"
          ]
        }
      ]
    },
    {
      "cell_type": "code",
      "source": [
        "from tensorflow.keras.callbacks import EarlyStopping\n",
        "\n",
        "es = EarlyStopping(patience=3, restore_best_weights=True, monitor='accuracy')"
      ],
      "metadata": {
        "id": "yurg5pBlsulF"
      },
      "execution_count": 29,
      "outputs": []
    },
    {
      "cell_type": "code",
      "source": [
        "model.fit(train_generator,\n",
        "          steps_per_epoch=40, \n",
        "          validation_data=validation_generator,\n",
        "          validation_steps=20, \n",
        "          epochs=8,\n",
        "          callbacks=[es])"
      ],
      "metadata": {
        "colab": {
          "base_uri": "https://localhost:8080/"
        },
        "id": "nGUws0zwsvjU",
        "outputId": "fdd06307-2d54-416f-f13e-9602562ae825"
      },
      "execution_count": 34,
      "outputs": [
        {
          "output_type": "stream",
          "name": "stdout",
          "text": [
            "Epoch 1/8\n",
            "40/40 [==============================] - 70s 2s/step - loss: 1.2372 - accuracy: 0.4898\n",
            "Epoch 2/8\n",
            "40/40 [==============================] - 69s 2s/step - loss: 1.2106 - accuracy: 0.5254\n",
            "Epoch 3/8\n",
            "40/40 [==============================] - 70s 2s/step - loss: 1.0160 - accuracy: 0.5938\n",
            "Epoch 4/8\n",
            "40/40 [==============================] - 70s 2s/step - loss: 1.0438 - accuracy: 0.6037\n",
            "Epoch 5/8\n",
            "40/40 [==============================] - 68s 2s/step - loss: 0.9706 - accuracy: 0.6399\n",
            "Epoch 6/8\n",
            "40/40 [==============================] - 68s 2s/step - loss: 0.9689 - accuracy: 0.6387\n",
            "Epoch 7/8\n",
            "40/40 [==============================] - 69s 2s/step - loss: 0.9496 - accuracy: 0.6687\n",
            "Epoch 8/8\n",
            "40/40 [==============================] - 70s 2s/step - loss: 0.8757 - accuracy: 0.6862\n"
          ]
        },
        {
          "output_type": "execute_result",
          "data": {
            "text/plain": [
              "<keras.callbacks.History at 0x7f40240279d0>"
            ]
          },
          "metadata": {},
          "execution_count": 34
        }
      ]
    },
    {
      "cell_type": "code",
      "source": [
        "model.evaluate(validation_generator)"
      ],
      "metadata": {
        "colab": {
          "base_uri": "https://localhost:8080/"
        },
        "id": "TN3njxyxyXDH",
        "outputId": "68e82754-07ec-4c12-db35-c347b5456164"
      },
      "execution_count": 35,
      "outputs": [
        {
          "output_type": "stream",
          "name": "stdout",
          "text": [
            "13/13 [==============================] - 1s 72ms/step - loss: 0.6102 - accuracy: 0.7600\n"
          ]
        },
        {
          "output_type": "execute_result",
          "data": {
            "text/plain": [
              "[0.6102330088615417, 0.7599999904632568]"
            ]
          },
          "metadata": {},
          "execution_count": 35
        }
      ]
    }
  ]
}