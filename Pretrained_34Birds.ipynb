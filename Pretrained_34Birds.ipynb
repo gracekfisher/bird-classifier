{
  "nbformat": 4,
  "nbformat_minor": 0,
  "metadata": {
    "colab": {
      "name": "Pretrained_34Birds.ipynb",
      "provenance": [],
      "authorship_tag": "ABX9TyPvEU9zrBSmYGDDkZzk7mJB",
      "include_colab_link": true
    },
    "kernelspec": {
      "name": "python3",
      "display_name": "Python 3"
    },
    "language_info": {
      "name": "python"
    }
  },
  "cells": [
    {
      "cell_type": "markdown",
      "metadata": {
        "id": "view-in-github",
        "colab_type": "text"
      },
      "source": [
        "<a href=\"https://colab.research.google.com/github/gracekfisher/bird-classifier/blob/main/Pretrained_34Birds.ipynb\" target=\"_parent\"><img src=\"https://colab.research.google.com/assets/colab-badge.svg\" alt=\"Open In Colab\"/></a>"
      ]
    },
    {
      "cell_type": "markdown",
      "source": [
        "## Load pretrained model"
      ],
      "metadata": {
        "id": "a9SrGvZEpSIY"
      }
    },
    {
      "cell_type": "code",
      "execution_count": 1,
      "metadata": {
        "id": "-USmQufso_ly"
      },
      "outputs": [],
      "source": [
        "from tensorflow.keras.models import Model\n",
        "from tensorflow.keras.preprocessing.image import ImageDataGenerator\n",
        "from tensorflow.keras.applications.inception_v3 import InceptionV3,preprocess_input,decode_predictions\n",
        "from tensorflow.keras.preprocessing import image\n",
        "from tensorflow.keras.optimizers import SGD\n",
        "from tensorflow.keras.layers import Dense, GlobalAveragePooling2D\n",
        "from tensorflow.keras import backend as K\n",
        "import numpy as np"
      ]
    },
    {
      "cell_type": "code",
      "source": [
        "base_model = InceptionV3(weights='imagenet', include_top=False)\n",
        "x = base_model.output\n",
        "x = GlobalAveragePooling2D()(x)\n",
        "x = Dense(1024, activation='relu')(x)\n",
        "predictions = Dense(34, activation='softmax')(x)\n",
        "model = Model(inputs=base_model.input, outputs=predictions)"
      ],
      "metadata": {
        "colab": {
          "base_uri": "https://localhost:8080/"
        },
        "id": "jCOYZeeNpMsx",
        "outputId": "4733ac69-6b75-403a-de0e-2829eea049e8"
      },
      "execution_count": 2,
      "outputs": [
        {
          "output_type": "stream",
          "name": "stdout",
          "text": [
            "Downloading data from https://storage.googleapis.com/tensorflow/keras-applications/inception_v3/inception_v3_weights_tf_dim_ordering_tf_kernels_notop.h5\n",
            "87916544/87910968 [==============================] - 0s 0us/step\n",
            "87924736/87910968 [==============================] - 0s 0us/step\n"
          ]
        }
      ]
    },
    {
      "cell_type": "code",
      "source": [
        "for layer in base_model.layers:\n",
        "    layer.trainable = False"
      ],
      "metadata": {
        "id": "RlDETu3NpRlJ"
      },
      "execution_count": 3,
      "outputs": []
    },
    {
      "cell_type": "code",
      "source": [
        "model.compile(optimizer='adam', metrics=['accuracy'],loss='categorical_crossentropy')"
      ],
      "metadata": {
        "id": "XScsuG6epbTK"
      },
      "execution_count": 4,
      "outputs": []
    },
    {
      "cell_type": "markdown",
      "source": [
        "## Load googledrive"
      ],
      "metadata": {
        "id": "0vOv_SBYphkH"
      }
    },
    {
      "cell_type": "code",
      "source": [
        "from google.colab import drive\n",
        "drive.mount('/content/gdrive')"
      ],
      "metadata": {
        "colab": {
          "base_uri": "https://localhost:8080/"
        },
        "id": "mMIyuNAPpfRX",
        "outputId": "7548992b-90d0-4fa5-da22-6338398d0000"
      },
      "execution_count": 5,
      "outputs": [
        {
          "output_type": "stream",
          "name": "stdout",
          "text": [
            "Mounted at /content/gdrive\n"
          ]
        }
      ]
    },
    {
      "cell_type": "markdown",
      "source": [
        "## Data generators and train model"
      ],
      "metadata": {
        "id": "GFE8jbEwqXiV"
      }
    },
    {
      "cell_type": "code",
      "source": [
        "train_datagen = ImageDataGenerator(rescale=1./255,\n",
        "                                   dtype=\"float32\",\n",
        "                                   shear_range=0.2,\n",
        "                                   zoom_range=0.2,\n",
        "                                   horizontal_flip=True)\n",
        "\n",
        "valid_datagen = ImageDataGenerator(rescale=1./255,\n",
        "                                   dtype=\"float32\")"
      ],
      "metadata": {
        "id": "rdogDZc9ppUw"
      },
      "execution_count": 6,
      "outputs": []
    },
    {
      "cell_type": "code",
      "source": [
        "train_generator = train_datagen.flow_from_directory(\n",
        "    \"gdrive/MyDrive/Birds/train_cut\",\n",
        "    target_size=(299, 299),\n",
        "    batch_size=20,\n",
        "    class_mode=\"categorical\"\n",
        ")\n",
        "\n",
        "valid_generator = valid_datagen.flow_from_directory(\n",
        "    \"gdrive/MyDrive/Birds/test_cut\",\n",
        "    target_size=(299, 299),\n",
        "    batch_size=20,\n",
        "    class_mode=\"categorical\"\n",
        ")"
      ],
      "metadata": {
        "colab": {
          "base_uri": "https://localhost:8080/"
        },
        "id": "UVJ0SkhGqose",
        "outputId": "bef0db8e-5c68-438c-ad8c-bd16f33e0883"
      },
      "execution_count": 7,
      "outputs": [
        {
          "output_type": "stream",
          "name": "stdout",
          "text": [
            "Found 6668 images belonging to 34 classes.\n",
            "Found 170 images belonging to 34 classes.\n"
          ]
        }
      ]
    },
    {
      "cell_type": "code",
      "source": [
        "from tensorflow.keras.callbacks import EarlyStopping\n",
        "es = EarlyStopping(patience=3, restore_best_weights=True, monitor='val_accuracy')"
      ],
      "metadata": {
        "id": "LKHvdT7g4ATn"
      },
      "execution_count": 10,
      "outputs": []
    },
    {
      "cell_type": "code",
      "source": [
        "model.fit(train_generator, \n",
        "          steps_per_epoch=100, \n",
        "          validation_steps=10,\n",
        "          validation_data=valid_generator,\n",
        "          epochs=3,\n",
        "          callbacks=[es]\n",
        "          )"
      ],
      "metadata": {
        "colab": {
          "base_uri": "https://localhost:8080/"
        },
        "id": "No53jRz5q1IM",
        "outputId": "4874bd2f-1824-4f6f-a9ae-8f458eb842d3"
      },
      "execution_count": 11,
      "outputs": [
        {
          "output_type": "stream",
          "name": "stdout",
          "text": [
            "Epoch 1/3\n",
            "100/100 [==============================] - ETA: 0s - loss: 1.1572 - accuracy: 0.6820WARNING:tensorflow:Your input ran out of data; interrupting training. Make sure that your dataset or generator can generate at least `steps_per_epoch * epochs` batches (in this case, 10 batches). You may need to use the repeat() function when building your dataset.\n",
            "100/100 [==============================] - 712s 7s/step - loss: 1.1572 - accuracy: 0.6820 - val_loss: 0.3407 - val_accuracy: 0.8882\n",
            "Epoch 2/3\n",
            "100/100 [==============================] - ETA: 0s - loss: 0.3878 - accuracy: 0.8828WARNING:tensorflow:Early stopping conditioned on metric `val_accuracy` which is not available. Available metrics are: loss,accuracy\n",
            "100/100 [==============================] - 471s 5s/step - loss: 0.3878 - accuracy: 0.8828\n",
            "Epoch 3/3\n",
            "100/100 [==============================] - ETA: 0s - loss: 0.2731 - accuracy: 0.9145WARNING:tensorflow:Early stopping conditioned on metric `val_accuracy` which is not available. Available metrics are: loss,accuracy\n",
            "100/100 [==============================] - 414s 4s/step - loss: 0.2731 - accuracy: 0.9145\n"
          ]
        },
        {
          "output_type": "execute_result",
          "data": {
            "text/plain": [
              "<keras.callbacks.History at 0x7fa2a2e0ca90>"
            ]
          },
          "metadata": {},
          "execution_count": 11
        }
      ]
    },
    {
      "cell_type": "code",
      "source": [
        "model.evaluate(valid_generator)"
      ],
      "metadata": {
        "colab": {
          "base_uri": "https://localhost:8080/"
        },
        "id": "Jxj3uB9B_2l1",
        "outputId": "66c3a9e0-0ec3-4e1a-d1a0-ee2c37f50801"
      },
      "execution_count": 12,
      "outputs": [
        {
          "output_type": "stream",
          "name": "stdout",
          "text": [
            "9/9 [==============================] - 31s 3s/step - loss: 0.3339 - accuracy: 0.8882\n"
          ]
        },
        {
          "output_type": "execute_result",
          "data": {
            "text/plain": [
              "[0.3338734805583954, 0.8882352709770203]"
            ]
          },
          "metadata": {},
          "execution_count": 12
        }
      ]
    }
  ]
}